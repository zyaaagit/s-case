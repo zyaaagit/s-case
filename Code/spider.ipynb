{
 "cells": [
  {
   "cell_type": "code",
   "execution_count": 1,
   "metadata": {},
   "outputs": [],
   "source": [
    "#coding:utf-8\n",
    "import requests\n",
    "from bs4 import BeautifulSoup\n",
    "import bs4\n",
    "import re\n",
    "import random\n",
    "from lxml import etree # 解析数据\n",
    "from tqdm import tqdm\n",
    "import pandas as pd"
   ]
  },
  {
   "cell_type": "code",
   "execution_count": 64,
   "metadata": {},
   "outputs": [],
   "source": [
    "def ua():\n",
    "    \"\"\"随机获取一个浏览器用户信息\"\"\"\n",
    "    user_agents = [\n",
    "        'Mozilla/5.0 (Windows; U; Windows NT 5.1; it; rv:1.8.1.11) Gecko/20071127 Firefox/2.0.0.11',\n",
    "        'Opera/9.25 (Windows NT 5.1; U; en)',\n",
    "        'Mozilla/4.0 (compatible; MSIE 6.0; Windows NT 5.1; SV1; .NET CLR 1.1.4322; .NET CLR 2.0.50727)',\n",
    "        'Mozilla/5.0 (compatible; Konqueror/3.5; Linux) KHTML/3.5.5 (like Gecko) (Kubuntu)',\n",
    "        'Mozilla/5.0 (X11; U; Linux i686; en-US; rv:1.8.0.12) Gecko/20070731 Ubuntu/dapper-security Firefox/1.5.0.12',\n",
    "        'Lynx/2.8.5rel.1 libwww-FM/2.14 SSL-MM/1.4.1 GNUTLS/1.2.9',\n",
    "        'Mozilla/5.0 (X11; Linux i686) AppleWebKit/535.7 (KHTML, like Gecko) Ubuntu/11.04 Chromium/16.0.912.77 Chrome/16.0.912.77 Safari/535.7',\n",
    "        'Mozilla/5.0 (X11; Ubuntu; Linux i686; rv:10.0) Gecko/20100101 Firefox/10.0',\n",
    "    ]\n",
    "    agent = random.choice(user_agents)\n",
    "    return {\n",
    "        'User-Agent': agent\n",
    "    }\n",
    "\n",
    "def get_str(data):\n",
    "    \"\"\"格式化输出\"\"\"\n",
    "    return data.strip().replace('问</i>','').replace('\\t','').replace('\\n','').replace('<i class=\"ask-tag answer-tag\">答</i>','')\n",
    "\n",
    "def get(url):\n",
    "    res = requests.get(url,headers=ua())\n",
    "    return res.text\n",
    "\n",
    "def main(start_url,start_pg,end_pg):\n",
    "    question = []\n",
    "    answer = []\n",
    "    for i in tqdm(range(start_pg,end_pg)):\n",
    "        url = start_url + '?page=' + str(i)\n",
    "        res_text = get(url)\n",
    "        re_q = re.compile(r'(?<=<i class=\"ask-tag\">)[\\s\\S]*?(?=</a>)')\n",
    "        re_a = re.compile(r'(?<=<div class=\"qa-item qa-item-answer\">)[\\s\\S]*?(?=</div>)')\n",
    "        result_q=re_q.findall(res_text)\n",
    "        result_a=re_a.findall(res_text)\n",
    "        for a in result_q:\n",
    "            question.append(get_str(a))\n",
    "        for b in result_a:\n",
    "            answer.append(get_str(b))\n",
    "    return question,answer "
   ]
  },
  {
   "cell_type": "code",
   "execution_count": 65,
   "metadata": {},
   "outputs": [
    {
     "name": "stderr",
     "output_type": "stream",
     "text": [
      "  0%|          | 0/99 [00:00<?, ?it/s]\n"
     ]
    },
    {
     "ename": "ProxyError",
     "evalue": "HTTPSConnectionPool(host='www.chunyuyisheng.com', port=443): Max retries exceeded with url: /pc/qalist/?page=1 (Caused by ProxyError('Cannot connect to proxy.', NewConnectionError('<urllib3.connection.HTTPSConnection object at 0x7fb82a505a60>: Failed to establish a new connection: [Errno 61] Connection refused')))",
     "output_type": "error",
     "traceback": [
      "\u001b[0;31m---------------------------------------------------------------------------\u001b[0m",
      "\u001b[0;31mConnectionRefusedError\u001b[0m                    Traceback (most recent call last)",
      "File \u001b[0;32m~/opt/anaconda3/envs/nlp/lib/python3.9/site-packages/urllib3/connection.py:174\u001b[0m, in \u001b[0;36mHTTPConnection._new_conn\u001b[0;34m(self)\u001b[0m\n\u001b[1;32m    173\u001b[0m \u001b[39mtry\u001b[39;00m:\n\u001b[0;32m--> 174\u001b[0m     conn \u001b[39m=\u001b[39m connection\u001b[39m.\u001b[39;49mcreate_connection(\n\u001b[1;32m    175\u001b[0m         (\u001b[39mself\u001b[39;49m\u001b[39m.\u001b[39;49m_dns_host, \u001b[39mself\u001b[39;49m\u001b[39m.\u001b[39;49mport), \u001b[39mself\u001b[39;49m\u001b[39m.\u001b[39;49mtimeout, \u001b[39m*\u001b[39;49m\u001b[39m*\u001b[39;49mextra_kw\n\u001b[1;32m    176\u001b[0m     )\n\u001b[1;32m    178\u001b[0m \u001b[39mexcept\u001b[39;00m SocketTimeout:\n",
      "File \u001b[0;32m~/opt/anaconda3/envs/nlp/lib/python3.9/site-packages/urllib3/util/connection.py:95\u001b[0m, in \u001b[0;36mcreate_connection\u001b[0;34m(address, timeout, source_address, socket_options)\u001b[0m\n\u001b[1;32m     94\u001b[0m \u001b[39mif\u001b[39;00m err \u001b[39mis\u001b[39;00m \u001b[39mnot\u001b[39;00m \u001b[39mNone\u001b[39;00m:\n\u001b[0;32m---> 95\u001b[0m     \u001b[39mraise\u001b[39;00m err\n\u001b[1;32m     97\u001b[0m \u001b[39mraise\u001b[39;00m socket\u001b[39m.\u001b[39merror(\u001b[39m\"\u001b[39m\u001b[39mgetaddrinfo returns an empty list\u001b[39m\u001b[39m\"\u001b[39m)\n",
      "File \u001b[0;32m~/opt/anaconda3/envs/nlp/lib/python3.9/site-packages/urllib3/util/connection.py:85\u001b[0m, in \u001b[0;36mcreate_connection\u001b[0;34m(address, timeout, source_address, socket_options)\u001b[0m\n\u001b[1;32m     84\u001b[0m     sock\u001b[39m.\u001b[39mbind(source_address)\n\u001b[0;32m---> 85\u001b[0m sock\u001b[39m.\u001b[39;49mconnect(sa)\n\u001b[1;32m     86\u001b[0m \u001b[39mreturn\u001b[39;00m sock\n",
      "\u001b[0;31mConnectionRefusedError\u001b[0m: [Errno 61] Connection refused",
      "\nDuring handling of the above exception, another exception occurred:\n",
      "\u001b[0;31mNewConnectionError\u001b[0m                        Traceback (most recent call last)",
      "File \u001b[0;32m~/opt/anaconda3/envs/nlp/lib/python3.9/site-packages/urllib3/connectionpool.py:700\u001b[0m, in \u001b[0;36mHTTPConnectionPool.urlopen\u001b[0;34m(self, method, url, body, headers, retries, redirect, assert_same_host, timeout, pool_timeout, release_conn, chunked, body_pos, **response_kw)\u001b[0m\n\u001b[1;32m    699\u001b[0m \u001b[39mif\u001b[39;00m is_new_proxy_conn \u001b[39mand\u001b[39;00m http_tunnel_required:\n\u001b[0;32m--> 700\u001b[0m     \u001b[39mself\u001b[39;49m\u001b[39m.\u001b[39;49m_prepare_proxy(conn)\n\u001b[1;32m    702\u001b[0m \u001b[39m# Make the request on the httplib connection object.\u001b[39;00m\n",
      "File \u001b[0;32m~/opt/anaconda3/envs/nlp/lib/python3.9/site-packages/urllib3/connectionpool.py:996\u001b[0m, in \u001b[0;36mHTTPSConnectionPool._prepare_proxy\u001b[0;34m(self, conn)\u001b[0m\n\u001b[1;32m    994\u001b[0m     conn\u001b[39m.\u001b[39mtls_in_tls_required \u001b[39m=\u001b[39m \u001b[39mTrue\u001b[39;00m\n\u001b[0;32m--> 996\u001b[0m conn\u001b[39m.\u001b[39;49mconnect()\n",
      "File \u001b[0;32m~/opt/anaconda3/envs/nlp/lib/python3.9/site-packages/urllib3/connection.py:358\u001b[0m, in \u001b[0;36mHTTPSConnection.connect\u001b[0;34m(self)\u001b[0m\n\u001b[1;32m    356\u001b[0m \u001b[39mdef\u001b[39;00m \u001b[39mconnect\u001b[39m(\u001b[39mself\u001b[39m):\n\u001b[1;32m    357\u001b[0m     \u001b[39m# Add certificate verification\u001b[39;00m\n\u001b[0;32m--> 358\u001b[0m     \u001b[39mself\u001b[39m\u001b[39m.\u001b[39msock \u001b[39m=\u001b[39m conn \u001b[39m=\u001b[39m \u001b[39mself\u001b[39;49m\u001b[39m.\u001b[39;49m_new_conn()\n\u001b[1;32m    359\u001b[0m     hostname \u001b[39m=\u001b[39m \u001b[39mself\u001b[39m\u001b[39m.\u001b[39mhost\n",
      "File \u001b[0;32m~/opt/anaconda3/envs/nlp/lib/python3.9/site-packages/urllib3/connection.py:186\u001b[0m, in \u001b[0;36mHTTPConnection._new_conn\u001b[0;34m(self)\u001b[0m\n\u001b[1;32m    185\u001b[0m \u001b[39mexcept\u001b[39;00m SocketError \u001b[39mas\u001b[39;00m e:\n\u001b[0;32m--> 186\u001b[0m     \u001b[39mraise\u001b[39;00m NewConnectionError(\n\u001b[1;32m    187\u001b[0m         \u001b[39mself\u001b[39m, \u001b[39m\"\u001b[39m\u001b[39mFailed to establish a new connection: \u001b[39m\u001b[39m%s\u001b[39;00m\u001b[39m\"\u001b[39m \u001b[39m%\u001b[39m e\n\u001b[1;32m    188\u001b[0m     )\n\u001b[1;32m    190\u001b[0m \u001b[39mreturn\u001b[39;00m conn\n",
      "\u001b[0;31mNewConnectionError\u001b[0m: <urllib3.connection.HTTPSConnection object at 0x7fb82a505a60>: Failed to establish a new connection: [Errno 61] Connection refused",
      "\nDuring handling of the above exception, another exception occurred:\n",
      "\u001b[0;31mMaxRetryError\u001b[0m                             Traceback (most recent call last)",
      "File \u001b[0;32m~/opt/anaconda3/envs/nlp/lib/python3.9/site-packages/requests/adapters.py:489\u001b[0m, in \u001b[0;36mHTTPAdapter.send\u001b[0;34m(self, request, stream, timeout, verify, cert, proxies)\u001b[0m\n\u001b[1;32m    488\u001b[0m \u001b[39mif\u001b[39;00m \u001b[39mnot\u001b[39;00m chunked:\n\u001b[0;32m--> 489\u001b[0m     resp \u001b[39m=\u001b[39m conn\u001b[39m.\u001b[39;49murlopen(\n\u001b[1;32m    490\u001b[0m         method\u001b[39m=\u001b[39;49mrequest\u001b[39m.\u001b[39;49mmethod,\n\u001b[1;32m    491\u001b[0m         url\u001b[39m=\u001b[39;49murl,\n\u001b[1;32m    492\u001b[0m         body\u001b[39m=\u001b[39;49mrequest\u001b[39m.\u001b[39;49mbody,\n\u001b[1;32m    493\u001b[0m         headers\u001b[39m=\u001b[39;49mrequest\u001b[39m.\u001b[39;49mheaders,\n\u001b[1;32m    494\u001b[0m         redirect\u001b[39m=\u001b[39;49m\u001b[39mFalse\u001b[39;49;00m,\n\u001b[1;32m    495\u001b[0m         assert_same_host\u001b[39m=\u001b[39;49m\u001b[39mFalse\u001b[39;49;00m,\n\u001b[1;32m    496\u001b[0m         preload_content\u001b[39m=\u001b[39;49m\u001b[39mFalse\u001b[39;49;00m,\n\u001b[1;32m    497\u001b[0m         decode_content\u001b[39m=\u001b[39;49m\u001b[39mFalse\u001b[39;49;00m,\n\u001b[1;32m    498\u001b[0m         retries\u001b[39m=\u001b[39;49m\u001b[39mself\u001b[39;49m\u001b[39m.\u001b[39;49mmax_retries,\n\u001b[1;32m    499\u001b[0m         timeout\u001b[39m=\u001b[39;49mtimeout,\n\u001b[1;32m    500\u001b[0m     )\n\u001b[1;32m    502\u001b[0m \u001b[39m# Send the request.\u001b[39;00m\n\u001b[1;32m    503\u001b[0m \u001b[39melse\u001b[39;00m:\n",
      "File \u001b[0;32m~/opt/anaconda3/envs/nlp/lib/python3.9/site-packages/urllib3/connectionpool.py:787\u001b[0m, in \u001b[0;36mHTTPConnectionPool.urlopen\u001b[0;34m(self, method, url, body, headers, retries, redirect, assert_same_host, timeout, pool_timeout, release_conn, chunked, body_pos, **response_kw)\u001b[0m\n\u001b[1;32m    785\u001b[0m     e \u001b[39m=\u001b[39m ProtocolError(\u001b[39m\"\u001b[39m\u001b[39mConnection aborted.\u001b[39m\u001b[39m\"\u001b[39m, e)\n\u001b[0;32m--> 787\u001b[0m retries \u001b[39m=\u001b[39m retries\u001b[39m.\u001b[39;49mincrement(\n\u001b[1;32m    788\u001b[0m     method, url, error\u001b[39m=\u001b[39;49me, _pool\u001b[39m=\u001b[39;49m\u001b[39mself\u001b[39;49m, _stacktrace\u001b[39m=\u001b[39;49msys\u001b[39m.\u001b[39;49mexc_info()[\u001b[39m2\u001b[39;49m]\n\u001b[1;32m    789\u001b[0m )\n\u001b[1;32m    790\u001b[0m retries\u001b[39m.\u001b[39msleep()\n",
      "File \u001b[0;32m~/opt/anaconda3/envs/nlp/lib/python3.9/site-packages/urllib3/util/retry.py:592\u001b[0m, in \u001b[0;36mRetry.increment\u001b[0;34m(self, method, url, response, error, _pool, _stacktrace)\u001b[0m\n\u001b[1;32m    591\u001b[0m \u001b[39mif\u001b[39;00m new_retry\u001b[39m.\u001b[39mis_exhausted():\n\u001b[0;32m--> 592\u001b[0m     \u001b[39mraise\u001b[39;00m MaxRetryError(_pool, url, error \u001b[39mor\u001b[39;00m ResponseError(cause))\n\u001b[1;32m    594\u001b[0m log\u001b[39m.\u001b[39mdebug(\u001b[39m\"\u001b[39m\u001b[39mIncremented Retry for (url=\u001b[39m\u001b[39m'\u001b[39m\u001b[39m%s\u001b[39;00m\u001b[39m'\u001b[39m\u001b[39m): \u001b[39m\u001b[39m%r\u001b[39;00m\u001b[39m\"\u001b[39m, url, new_retry)\n",
      "\u001b[0;31mMaxRetryError\u001b[0m: HTTPSConnectionPool(host='www.chunyuyisheng.com', port=443): Max retries exceeded with url: /pc/qalist/?page=1 (Caused by ProxyError('Cannot connect to proxy.', NewConnectionError('<urllib3.connection.HTTPSConnection object at 0x7fb82a505a60>: Failed to establish a new connection: [Errno 61] Connection refused')))",
      "\nDuring handling of the above exception, another exception occurred:\n",
      "\u001b[0;31mProxyError\u001b[0m                                Traceback (most recent call last)",
      "Cell \u001b[0;32mIn[65], line 2\u001b[0m\n\u001b[1;32m      1\u001b[0m start_url \u001b[39m=\u001b[39m \u001b[39m'\u001b[39m\u001b[39mhttps://www.chunyuyisheng.com/pc/qalist/\u001b[39m\u001b[39m'\u001b[39m\n\u001b[0;32m----> 2\u001b[0m question,answer \u001b[39m=\u001b[39m main(start_url,\u001b[39m1\u001b[39;49m,\u001b[39m100\u001b[39;49m)\n",
      "Cell \u001b[0;32mIn[64], line 31\u001b[0m, in \u001b[0;36mmain\u001b[0;34m(start_url, start_pg, end_pg)\u001b[0m\n\u001b[1;32m     29\u001b[0m \u001b[39mfor\u001b[39;00m i \u001b[39min\u001b[39;00m tqdm(\u001b[39mrange\u001b[39m(start_pg,end_pg)):\n\u001b[1;32m     30\u001b[0m     url \u001b[39m=\u001b[39m start_url \u001b[39m+\u001b[39m \u001b[39m'\u001b[39m\u001b[39m?page=\u001b[39m\u001b[39m'\u001b[39m \u001b[39m+\u001b[39m \u001b[39mstr\u001b[39m(i)\n\u001b[0;32m---> 31\u001b[0m     res_text \u001b[39m=\u001b[39m get(url)\n\u001b[1;32m     32\u001b[0m     re_q \u001b[39m=\u001b[39m re\u001b[39m.\u001b[39mcompile(\u001b[39mr\u001b[39m\u001b[39m'\u001b[39m\u001b[39m(?<=<i class=\u001b[39m\u001b[39m\"\u001b[39m\u001b[39mask-tag\u001b[39m\u001b[39m\"\u001b[39m\u001b[39m>)[\u001b[39m\u001b[39m\\\u001b[39m\u001b[39ms\u001b[39m\u001b[39m\\\u001b[39m\u001b[39mS]*?(?=</a>)\u001b[39m\u001b[39m'\u001b[39m)\n\u001b[1;32m     33\u001b[0m     re_a \u001b[39m=\u001b[39m re\u001b[39m.\u001b[39mcompile(\u001b[39mr\u001b[39m\u001b[39m'\u001b[39m\u001b[39m(?<=<div class=\u001b[39m\u001b[39m\"\u001b[39m\u001b[39mqa-item qa-item-answer\u001b[39m\u001b[39m\"\u001b[39m\u001b[39m>)[\u001b[39m\u001b[39m\\\u001b[39m\u001b[39ms\u001b[39m\u001b[39m\\\u001b[39m\u001b[39mS]*?(?=</div>)\u001b[39m\u001b[39m'\u001b[39m)\n",
      "Cell \u001b[0;32mIn[64], line 23\u001b[0m, in \u001b[0;36mget\u001b[0;34m(url)\u001b[0m\n\u001b[1;32m     22\u001b[0m \u001b[39mdef\u001b[39;00m \u001b[39mget\u001b[39m(url):\n\u001b[0;32m---> 23\u001b[0m     res \u001b[39m=\u001b[39m requests\u001b[39m.\u001b[39;49mget(url,headers\u001b[39m=\u001b[39;49mua())\n\u001b[1;32m     24\u001b[0m     \u001b[39mreturn\u001b[39;00m res\u001b[39m.\u001b[39mtext\n",
      "File \u001b[0;32m~/opt/anaconda3/envs/nlp/lib/python3.9/site-packages/requests/api.py:73\u001b[0m, in \u001b[0;36mget\u001b[0;34m(url, params, **kwargs)\u001b[0m\n\u001b[1;32m     62\u001b[0m \u001b[39mdef\u001b[39;00m \u001b[39mget\u001b[39m(url, params\u001b[39m=\u001b[39m\u001b[39mNone\u001b[39;00m, \u001b[39m*\u001b[39m\u001b[39m*\u001b[39mkwargs):\n\u001b[1;32m     63\u001b[0m     \u001b[39mr\u001b[39m\u001b[39m\"\"\"Sends a GET request.\u001b[39;00m\n\u001b[1;32m     64\u001b[0m \n\u001b[1;32m     65\u001b[0m \u001b[39m    :param url: URL for the new :class:`Request` object.\u001b[39;00m\n\u001b[0;32m   (...)\u001b[0m\n\u001b[1;32m     70\u001b[0m \u001b[39m    :rtype: requests.Response\u001b[39;00m\n\u001b[1;32m     71\u001b[0m \u001b[39m    \"\"\"\u001b[39;00m\n\u001b[0;32m---> 73\u001b[0m     \u001b[39mreturn\u001b[39;00m request(\u001b[39m\"\u001b[39;49m\u001b[39mget\u001b[39;49m\u001b[39m\"\u001b[39;49m, url, params\u001b[39m=\u001b[39;49mparams, \u001b[39m*\u001b[39;49m\u001b[39m*\u001b[39;49mkwargs)\n",
      "File \u001b[0;32m~/opt/anaconda3/envs/nlp/lib/python3.9/site-packages/requests/api.py:59\u001b[0m, in \u001b[0;36mrequest\u001b[0;34m(method, url, **kwargs)\u001b[0m\n\u001b[1;32m     55\u001b[0m \u001b[39m# By using the 'with' statement we are sure the session is closed, thus we\u001b[39;00m\n\u001b[1;32m     56\u001b[0m \u001b[39m# avoid leaving sockets open which can trigger a ResourceWarning in some\u001b[39;00m\n\u001b[1;32m     57\u001b[0m \u001b[39m# cases, and look like a memory leak in others.\u001b[39;00m\n\u001b[1;32m     58\u001b[0m \u001b[39mwith\u001b[39;00m sessions\u001b[39m.\u001b[39mSession() \u001b[39mas\u001b[39;00m session:\n\u001b[0;32m---> 59\u001b[0m     \u001b[39mreturn\u001b[39;00m session\u001b[39m.\u001b[39;49mrequest(method\u001b[39m=\u001b[39;49mmethod, url\u001b[39m=\u001b[39;49murl, \u001b[39m*\u001b[39;49m\u001b[39m*\u001b[39;49mkwargs)\n",
      "File \u001b[0;32m~/opt/anaconda3/envs/nlp/lib/python3.9/site-packages/requests/sessions.py:587\u001b[0m, in \u001b[0;36mSession.request\u001b[0;34m(self, method, url, params, data, headers, cookies, files, auth, timeout, allow_redirects, proxies, hooks, stream, verify, cert, json)\u001b[0m\n\u001b[1;32m    582\u001b[0m send_kwargs \u001b[39m=\u001b[39m {\n\u001b[1;32m    583\u001b[0m     \u001b[39m\"\u001b[39m\u001b[39mtimeout\u001b[39m\u001b[39m\"\u001b[39m: timeout,\n\u001b[1;32m    584\u001b[0m     \u001b[39m\"\u001b[39m\u001b[39mallow_redirects\u001b[39m\u001b[39m\"\u001b[39m: allow_redirects,\n\u001b[1;32m    585\u001b[0m }\n\u001b[1;32m    586\u001b[0m send_kwargs\u001b[39m.\u001b[39mupdate(settings)\n\u001b[0;32m--> 587\u001b[0m resp \u001b[39m=\u001b[39m \u001b[39mself\u001b[39;49m\u001b[39m.\u001b[39;49msend(prep, \u001b[39m*\u001b[39;49m\u001b[39m*\u001b[39;49msend_kwargs)\n\u001b[1;32m    589\u001b[0m \u001b[39mreturn\u001b[39;00m resp\n",
      "File \u001b[0;32m~/opt/anaconda3/envs/nlp/lib/python3.9/site-packages/requests/sessions.py:701\u001b[0m, in \u001b[0;36mSession.send\u001b[0;34m(self, request, **kwargs)\u001b[0m\n\u001b[1;32m    698\u001b[0m start \u001b[39m=\u001b[39m preferred_clock()\n\u001b[1;32m    700\u001b[0m \u001b[39m# Send the request\u001b[39;00m\n\u001b[0;32m--> 701\u001b[0m r \u001b[39m=\u001b[39m adapter\u001b[39m.\u001b[39;49msend(request, \u001b[39m*\u001b[39;49m\u001b[39m*\u001b[39;49mkwargs)\n\u001b[1;32m    703\u001b[0m \u001b[39m# Total elapsed time of the request (approximately)\u001b[39;00m\n\u001b[1;32m    704\u001b[0m elapsed \u001b[39m=\u001b[39m preferred_clock() \u001b[39m-\u001b[39m start\n",
      "File \u001b[0;32m~/opt/anaconda3/envs/nlp/lib/python3.9/site-packages/requests/adapters.py:559\u001b[0m, in \u001b[0;36mHTTPAdapter.send\u001b[0;34m(self, request, stream, timeout, verify, cert, proxies)\u001b[0m\n\u001b[1;32m    556\u001b[0m     \u001b[39mraise\u001b[39;00m RetryError(e, request\u001b[39m=\u001b[39mrequest)\n\u001b[1;32m    558\u001b[0m \u001b[39mif\u001b[39;00m \u001b[39misinstance\u001b[39m(e\u001b[39m.\u001b[39mreason, _ProxyError):\n\u001b[0;32m--> 559\u001b[0m     \u001b[39mraise\u001b[39;00m ProxyError(e, request\u001b[39m=\u001b[39mrequest)\n\u001b[1;32m    561\u001b[0m \u001b[39mif\u001b[39;00m \u001b[39misinstance\u001b[39m(e\u001b[39m.\u001b[39mreason, _SSLError):\n\u001b[1;32m    562\u001b[0m     \u001b[39m# This branch is for urllib3 v1.22 and later.\u001b[39;00m\n\u001b[1;32m    563\u001b[0m     \u001b[39mraise\u001b[39;00m SSLError(e, request\u001b[39m=\u001b[39mrequest)\n",
      "\u001b[0;31mProxyError\u001b[0m: HTTPSConnectionPool(host='www.chunyuyisheng.com', port=443): Max retries exceeded with url: /pc/qalist/?page=1 (Caused by ProxyError('Cannot connect to proxy.', NewConnectionError('<urllib3.connection.HTTPSConnection object at 0x7fb82a505a60>: Failed to establish a new connection: [Errno 61] Connection refused')))"
     ]
    }
   ],
   "source": [
    "start_url = 'https://www.chunyuyisheng.com/pc/qalist/'\n",
    "question,answer = main(start_url,1,100)"
   ]
  },
  {
   "cell_type": "code",
   "execution_count": 77,
   "metadata": {},
   "outputs": [],
   "source": [
    "class spider_qadata:\n",
    "    def __init__(self,start_url):\n",
    "        self.symptom_qwds = ['症状', '表征', '现象', '症候', '表现', '不良反应','征兆']\n",
    "        self.cause_qwds = ['原因', '成因', '为什么', '怎么会', '怎样才', '咋样才', '怎样会', '如何会', '为啥', '为何',\n",
    "                        '如何才会', '怎么才会', '会导致', '会造成']\n",
    "        self.acompany_qwds = ['并发症', '并发', '一起发生', '一并发生', '一起出现', '一并出现', '一同发生', '一同出现',\n",
    "                            '伴随发生', '伴随', '共现']\n",
    "        self.not_food_qwds = ['不能吃什么','忌口','不能吃什么食物','不能吃什么东西','忌食','少吃']\n",
    "        self.can_food_qwds = ['吃什么食物','怎么补','吃什么菜','保健品','食谱','宜食','多吃']\n",
    "        self.drug_qwds = ['药', '药品', '用药', '胶囊', '口服液', '炎片']\n",
    "        self.check_qwds = ['检查', '检查项目', '查出', '检查', '测出', '试出']\n",
    "        self.prevent_qwds = ['预防', '防范', '抵制', '抵御', '防止', '躲避', '逃避', '避开', '免得', '逃开', '避开',\n",
    "                            '避掉', '躲开', '躲掉', '绕开',\n",
    "                            '怎样才能不', '怎么才能不', '咋样才能不', '咋才能不', '如何才能不',\n",
    "                            '怎样才不', '怎么才不', '咋样才不', '咋才不', '如何才不',\n",
    "                            '怎样才可以不', '怎么才可以不', '咋样才可以不', '咋才可以不', '如何可以不',\n",
    "                            '怎样才可不', '怎么才可不', '咋样才可不', '咋才可不', '如何可不']\n",
    "        self.lasttime_qwds = ['周期', '多久', '多长时间', '多少时间', '几天', '几年', '多少天', '多少小时', '几个小时',\n",
    "                            '多少年']\n",
    "        self.cureway_qwds = ['怎么治疗', '如何医治', '怎么医治', '怎么治', '怎么医', '如何治', '医治方式', '疗法',\n",
    "                            '咋治', '怎么办', '咋办', '咋治']\n",
    "        self.cureprob_qwds = ['多大概率能治好', '多大几率能治好', '治好希望大么', '几率', '几成', '比例', '可能性',\n",
    "                            '能治', '可治', '可以治', '可以医']\n",
    "        self.easyget_qwds = ['易感人群', '容易感染', '易发人群', '什么人', '哪些人', '感染', '染上', '得上']\n",
    "        self.desc_qwds = ['是怎么样的','']\n",
    "        self.start_url = start_url\n",
    "    def ua(self):\n",
    "        \"\"\"随机获取一个浏览器用户信息\"\"\"\n",
    "        user_agents = [\n",
    "            'Mozilla/5.0 (Windows; U; Windows NT 5.1; it; rv:1.8.1.11) Gecko/20071127 Firefox/2.0.0.11',\n",
    "            'Opera/9.25 (Windows NT 5.1; U; en)',\n",
    "            'Mozilla/4.0 (compatible; MSIE 6.0; Windows NT 5.1; SV1; .NET CLR 1.1.4322; .NET CLR 2.0.50727)',\n",
    "            'Mozilla/5.0 (compatible; Konqueror/3.5; Linux) KHTML/3.5.5 (like Gecko) (Kubuntu)',\n",
    "            'Mozilla/5.0 (X11; U; Linux i686; en-US; rv:1.8.0.12) Gecko/20070731 Ubuntu/dapper-security Firefox/1.5.0.12',\n",
    "            'Lynx/2.8.5rel.1 libwww-FM/2.14 SSL-MM/1.4.1 GNUTLS/1.2.9',\n",
    "            'Mozilla/5.0 (X11; Linux i686) AppleWebKit/535.7 (KHTML, like Gecko) Ubuntu/11.04 Chromium/16.0.912.77 Chrome/16.0.912.77 Safari/535.7',\n",
    "            'Mozilla/5.0 (X11; Ubuntu; Linux i686; rv:10.0) Gecko/20100101 Firefox/10.0',\n",
    "        ]\n",
    "        agent = random.choice(user_agents)\n",
    "        return {\n",
    "            'User-Agent': agent\n",
    "        }\n",
    "    \n",
    "    def get_str(self,data):\n",
    "        \"\"\"格式化输出\"\"\"\n",
    "        return data.strip().replace('问</i>','').replace('\\t','').replace('\\n','').replace('<i class=\"ask-tag answer-tag\">答</i>','').replace('<span class=\\'s-hl\\'>','').replace('</span>','')\n",
    "    \n",
    "    def get(self,url):\n",
    "        \"\"\"解析网页\"\"\"\n",
    "        res = requests.get(url,headers=self.ua())\n",
    "        return res.text\n",
    "    \n",
    "    def spider(self,start_pg,end_pg,qa):\n",
    "        question = []\n",
    "        answer = []\n",
    "        if qa == 'disease_symptom':\n",
    "            qatype = self.symptom_qwds\n",
    "        elif qa == 'disease_cause':\n",
    "            qatype = self.cause_qwds\n",
    "        elif qa == 'disease_acompany':\n",
    "            qatype = self.acompany_qwds\n",
    "        elif qa == 'disease_not_food':\n",
    "            qatype = self.not_food_qwds\n",
    "        elif qa == 'disease_do_food':\n",
    "            qatype = self.can_food_qwds\n",
    "        elif qa == 'disease_drug':\n",
    "            qatype = self.drug_qwds\n",
    "        elif qa == 'disease_check':\n",
    "            qatype = self.check_qwds\n",
    "        elif qa == 'disease_prevent':\n",
    "            qatype = self.prevent_qwds\n",
    "        elif qa == 'disease_lasttime':\n",
    "            qatype = self.lasttime_qwds\n",
    "        elif qa == 'disease_cureway':\n",
    "            qatype = self.cureway_qwds\n",
    "        elif qa == 'disease_cureprob':\n",
    "            qatype = self.cureprob_qwds\n",
    "        elif qa == 'disease_easyget':\n",
    "            qatype = self.easyget_qwds\n",
    "        for i in qatype:\n",
    "            for j in range(start_pg,end_pg):\n",
    "                url = self.start_url + '?query=' + str(i) + '&page=' + str (j)\n",
    "                res_text = self.get(url)\n",
    "                re_q = re.compile(r'(?<=<i class=\"ask-tag\">)[\\s\\S]*?(?=</a>)')\n",
    "                re_a = re.compile(r'(?<=<div class=\"qa-item qa-item-answer\">)[\\s\\S]*?(?=</div>)')\n",
    "                result_q=re_q.findall(res_text)\n",
    "                result_a=re_a.findall(res_text)\n",
    "                for a in result_q:\n",
    "                    question.append(self.get_str(a))\n",
    "                for b in result_a:\n",
    "                    answer.append(self.get_str(b))\n",
    "        return question,answer "
   ]
  },
  {
   "cell_type": "code",
   "execution_count": 78,
   "metadata": {},
   "outputs": [],
   "source": [
    "data = pd.read_csv('/Users/zhouyang/Desktop/problem_label.txt', delimiter=' ', header=None, names=['意图类型', '编号', '中文名', '重新编号'])"
   ]
  },
  {
   "cell_type": "code",
   "execution_count": 79,
   "metadata": {},
   "outputs": [
    {
     "name": "stderr",
     "output_type": "stream",
     "text": [
      "100%|██████████| 12/12 [06:58<00:00, 34.91s/it]\n"
     ]
    }
   ],
   "source": [
    "spider_qa = spider_qadata('https://www.chunyuyisheng.com/pc/search/qalist/')\n",
    "qa_data = pd.DataFrame(columns=['question', 'answer', 'question_type'])\n",
    "a = 0\n",
    "for i in tqdm(data['意图类型']):\n",
    "    question,answer = spider_qa.spider(1,10,i)\n",
    "    question_df = pd.DataFrame(question,columns=['question'])\n",
    "    answer_df = pd.DataFrame(answer,columns=['answer'])\n",
    "    qa_type = pd.concat([question_df,answer_df],axis=1)\n",
    "    qa_type['question_type'] = data.loc[a,'重新编号']\n",
    "    a += 1\n",
    "    qa_data = pd.concat([qa_data,qa_type], axis=0)"
   ]
  },
  {
   "cell_type": "code",
   "execution_count": 80,
   "metadata": {},
   "outputs": [],
   "source": [
    "qa_data.to_csv('问答对数据集.csv')"
   ]
  },
  {
   "cell_type": "code",
   "execution_count": 81,
   "metadata": {},
   "outputs": [],
   "source": [
    "qa_data_dp = qa_data.drop_duplicates(subset=['question','answer','question_type'], keep = 'first')"
   ]
  },
  {
   "cell_type": "code",
   "execution_count": 82,
   "metadata": {},
   "outputs": [],
   "source": [
    "qa_data_dp.to_csv('问答对数据集.csv')"
   ]
  },
  {
   "cell_type": "code",
   "execution_count": 86,
   "metadata": {},
   "outputs": [],
   "source": [
    "qa_data_dpa = qa_data_dp.drop_duplicates(subset=['question','answer'], keep=False)"
   ]
  },
  {
   "cell_type": "code",
   "execution_count": 87,
   "metadata": {},
   "outputs": [],
   "source": [
    "qa_data_dpa.to_csv('问答对数据集.csv')"
   ]
  },
  {
   "cell_type": "code",
   "execution_count": 84,
   "metadata": {},
   "outputs": [
    {
     "data": {
      "text/html": [
       "<div>\n",
       "<style scoped>\n",
       "    .dataframe tbody tr th:only-of-type {\n",
       "        vertical-align: middle;\n",
       "    }\n",
       "\n",
       "    .dataframe tbody tr th {\n",
       "        vertical-align: top;\n",
       "    }\n",
       "\n",
       "    .dataframe thead th {\n",
       "        text-align: right;\n",
       "    }\n",
       "</style>\n",
       "<table border=\"1\" class=\"dataframe\">\n",
       "  <thead>\n",
       "    <tr style=\"text-align: right;\">\n",
       "      <th></th>\n",
       "      <th>question</th>\n",
       "      <th>answer</th>\n",
       "      <th>question_type</th>\n",
       "    </tr>\n",
       "  </thead>\n",
       "  <tbody>\n",
       "    <tr>\n",
       "      <th>5</th>\n",
       "      <td>酒瘾严重,不喝酒会手抖等症状</td>\n",
       "      <td>你好，这种情况多久了呢？现在每天大概怎样的喝酒量除了手抖，还有其它症状没有你现在想咨询什么问...</td>\n",
       "      <td>1</td>\n",
       "    </tr>\n",
       "    <tr>\n",
       "      <th>20</th>\n",
       "      <td>飞蚊症用药物治疗到底能不能消除症状</td>\n",
       "      <td>你好，只能减轻，彻底消除不了的石斛夜光丸需要长期吃不同牌子价钱不一样，但是不贵您说的这个主要...</td>\n",
       "      <td>1</td>\n",
       "    </tr>\n",
       "    <tr>\n",
       "      <th>31</th>\n",
       "      <td>白带乳白色伴有瘙痒症状，还怎样用药...</td>\n",
       "      <td>你好，是豆腐渣样的吗最好查个白带常规再针对性用药不能随便用药的，要查白带看是哪种类型的阴道炎...</td>\n",
       "      <td>1</td>\n",
       "    </tr>\n",
       "    <tr>\n",
       "      <th>49</th>\n",
       "      <td>近期感觉头晕目眩，伴随呕吐症状（女...</td>\n",
       "      <td>这种情况有多长时间了？每天都这样？有没有耳鸣，听力下降？做过头颈磁共振和血管的检查吗这个都会...</td>\n",
       "      <td>1</td>\n",
       "    </tr>\n",
       "    <tr>\n",
       "      <th>142</th>\n",
       "      <td>感冒10天后出现耳鸣现象怎么回事</td>\n",
       "      <td>感音神经性耳聋。原来听力好么？属于突发性耳聋需要及时输液治疗你要是想听力好一些，建议输液，好...</td>\n",
       "      <td>1</td>\n",
       "    </tr>\n",
       "    <tr>\n",
       "      <th>...</th>\n",
       "      <td>...</td>\n",
       "      <td>...</td>\n",
       "      <td>...</td>\n",
       "    </tr>\n",
       "    <tr>\n",
       "      <th>1446</th>\n",
       "      <td>库欣综合征好医不,要手术吗</td>\n",
       "      <td>您好，非常乐意为您解答问题这个病，如果找到肾上腺有占位了，最好的办法是手术硝苯地平缓释片您现...</td>\n",
       "      <td>11</td>\n",
       "    </tr>\n",
       "    <tr>\n",
       "      <th>1447</th>\n",
       "      <td>出现宫寒,怎么办怎么医</td>\n",
       "      <td>你好，请问有什么症状？宫寒，湿气大，平时饮食不要吃寒凉食物。可以艾灸服用艾附暖宫丸晚上经常用...</td>\n",
       "      <td>11</td>\n",
       "    </tr>\n",
       "    <tr>\n",
       "      <th>1448</th>\n",
       "      <td>脑鸣好医吗?</td>\n",
       "      <td>你好，你这个症状有多长时间了？还伴有其它什么不适表现吗是脑鸣还是耳鸣？既往有无脑部外伤或脑血...</td>\n",
       "      <td>11</td>\n",
       "    </tr>\n",
       "    <tr>\n",
       "      <th>1449</th>\n",
       "      <td>医比克小孩口腔能用吗</td>\n",
       "      <td>你好！请问宝宝有什么症状？多长时间了？恢复的怎么样？不要自己给宝宝用药，手术后用药要咨询医生...</td>\n",
       "      <td>11</td>\n",
       "    </tr>\n",
       "    <tr>\n",
       "      <th>360</th>\n",
       "      <td>三高人等胆固醇指数高的人群宜吃墨鱼吗？</td>\n",
       "      <td>您好，请问目前血压血糖血脂控制的怎么样？墨鱼属于低脂肪和高蛋白质的食物，可以适量食用的。您好...</td>\n",
       "      <td>12</td>\n",
       "    </tr>\n",
       "  </tbody>\n",
       "</table>\n",
       "<p>504 rows × 3 columns</p>\n",
       "</div>"
      ],
      "text/plain": [
       "                  question                                             answer  \\\n",
       "5           酒瘾严重,不喝酒会手抖等症状  你好，这种情况多久了呢？现在每天大概怎样的喝酒量除了手抖，还有其它症状没有你现在想咨询什么问...   \n",
       "20       飞蚊症用药物治疗到底能不能消除症状  你好，只能减轻，彻底消除不了的石斛夜光丸需要长期吃不同牌子价钱不一样，但是不贵您说的这个主要...   \n",
       "31    白带乳白色伴有瘙痒症状，还怎样用药...  你好，是豆腐渣样的吗最好查个白带常规再针对性用药不能随便用药的，要查白带看是哪种类型的阴道炎...   \n",
       "49    近期感觉头晕目眩，伴随呕吐症状（女...  这种情况有多长时间了？每天都这样？有没有耳鸣，听力下降？做过头颈磁共振和血管的检查吗这个都会...   \n",
       "142       感冒10天后出现耳鸣现象怎么回事  感音神经性耳聋。原来听力好么？属于突发性耳聋需要及时输液治疗你要是想听力好一些，建议输液，好...   \n",
       "...                    ...                                                ...   \n",
       "1446         库欣综合征好医不,要手术吗  您好，非常乐意为您解答问题这个病，如果找到肾上腺有占位了，最好的办法是手术硝苯地平缓释片您现...   \n",
       "1447           出现宫寒,怎么办怎么医  你好，请问有什么症状？宫寒，湿气大，平时饮食不要吃寒凉食物。可以艾灸服用艾附暖宫丸晚上经常用...   \n",
       "1448                脑鸣好医吗?  你好，你这个症状有多长时间了？还伴有其它什么不适表现吗是脑鸣还是耳鸣？既往有无脑部外伤或脑血...   \n",
       "1449            医比克小孩口腔能用吗  你好！请问宝宝有什么症状？多长时间了？恢复的怎么样？不要自己给宝宝用药，手术后用药要咨询医生...   \n",
       "360    三高人等胆固醇指数高的人群宜吃墨鱼吗？  您好，请问目前血压血糖血脂控制的怎么样？墨鱼属于低脂肪和高蛋白质的食物，可以适量食用的。您好...   \n",
       "\n",
       "     question_type  \n",
       "5                1  \n",
       "20               1  \n",
       "31               1  \n",
       "49               1  \n",
       "142              1  \n",
       "...            ...  \n",
       "1446            11  \n",
       "1447            11  \n",
       "1448            11  \n",
       "1449            11  \n",
       "360             12  \n",
       "\n",
       "[504 rows x 3 columns]"
      ]
     },
     "execution_count": 84,
     "metadata": {},
     "output_type": "execute_result"
    }
   ],
   "source": [
    "qa_data_dp[qa_data_dp.duplicated(subset=['question','answer'],keep=False)]"
   ]
  },
  {
   "cell_type": "code",
   "execution_count": 14,
   "metadata": {},
   "outputs": [
    {
     "data": {
      "text/plain": [
       "['\\n\\t\\t\\t\\t末次月经是什么时候？有出血或者腹痛的情况吗你这个不太好哎看起来像是宫外孕怀疑左侧输卵管妊娠多半是因为输卵管有炎症，通畅度不好明天换家医院，复查一下如果今晚出现突然腹痛加重的情况，要立刻线下就诊高度怀疑，毕竟B超没看到孕囊只是报了增粗阴超准是的建议阴超有可能的巧囊是内膜异位到卵巢造成的如果确诊宫外孕，需要手术治疗的话，可以一起解决血值低或者发育慢的话可以考虑保守治疗保守治疗也要住院进行以防突发情况现在一般都腹腔镜受当地医疗条件限制还有你的病情发展情况杀胚药不要擅自用药！！！要在医生指导下用药是的！不要犯傻，宫外孕大出血是有生命危险的疑似输卵管还没看到云南输卵管还没看到孕囊\\n\\t\\t\\t',\n",
       " '\\n\\t\\t\\t\\t你好！这种情况有多长时间了？天旋地转吗你晕的时候看东西转吗？有没有耳鸣？平时有什么基础疾病吗嗯嗯，我认为你要查一个核磁先排除脑袋里问题比如长了东西，血管狭窄等嗯嗯嗯嗯\\n\\t\\t\\t',\n",
       " '\\n\\t\\t\\t\\t您好，请问宝宝鼻涕流的很多吗吃点抗感颗粒吧这次应该是普通感冒先吃点抗感颗粒就可以注意多喝水喷鼻对鼻塞效果还可以，流鼻涕效果不太好最好是吃点药中成药，副作用不大的，也不是很苦治疗感冒的家里有什么药，可以发给我看看有没有可以吃的豉翘可以，其他不咳嗽不建议吃，氨酚是复方制剂，也不建议吃目前不需要去医院有可能倒流的如果不放心可以去医院看看的，但是药肯定是要吃点的可以的小儿氨酚是复方制剂，副作用大，不建议使用也可以只要不再加重就没事可以的红霉素或头孢都可以可以的\\n\\t\\t\\t',\n",
       " '\\n\\t\\t\\t\\t肚子疼，呕吐，呃逆，食欲差，每个人不一定全都出现有泡泡查个尿常规，看里面有没有蛋白这和胃没关系那就不用管它你发的慢性胃炎很难肌酐高才是肾炎，你是低啊肾炎一般到后期肾功能很差的时候才会发现，基本上就该透析了，前期没什么',\n",
       " '。所以需要定期查尿常规蛋白，隐血，红细胞，说明不是尿常规都查了没事，你纠结这干啥？不能，彩超看的是肾脏结构有没有问题，尿常规看的是肾脏功能。综合看两个都要看才能诊断肾炎没事，放心的睡吧\\n\\t\\t\\t',\n",
       " '\\n\\t\\t\\t\\t你好，请问这种情况多久了有无图片能否发下包皮环的试样不建议用包皮环，建议每天清洁卫生即可因为之前包皮包住龟头，现在用包皮环，龟头表面干燥，会有起皮不会，可以用维生素E涂抹表面没有感染要降低敏感度，建议行包皮环切术可以，但仍要每天清洁可以，但包皮过长是存在包皮环只是暂时这个目前是可以的对的，但起皮时会有不适感，可以用维生素E外涂不会后面逐渐适应就不会了暂时没有，除了包皮环切术外环要好点有一个适应过程图一吧，简单点你先试试，后续情况及时联系我即可抱歉这个我不太清楚应该类似于抗菌润滑可以用对了，建议平时饮食清淡饮食辛辣会滋生湿热会导致',\n",
       " '反复\\n\\t\\t\\t',\n",
       " '\\n\\t\\t\\t\\t你好！请问目前有什么',\n",
       " '？轻度脂肪肝一般没有特殊处理。注意调节饮食，适当体育锻炼。在看你的检查报告呢，血常规结果在吗？脾大一般不需要特殊处理，但是引起血小板重度减少就需要处理了。血小板正常，脾大暂时不需要特殊处理。盆腔有积液，需要到妇科检查一下的。正常的脾脏一般摸不到。嗯，用的是粒细胞刺激因子吗？不是，津优力不会造成脾大。\\n\\t\\t\\t',\n",
       " '\\n\\t\\t\\t\\t一般情况会有胸骨后烧灼感胸骨后疼痛后背痛咽喉不舒服嘴里反酸水没有怀孕备孕哺乳期吧对什么药物不过敏吧中药也不去根少吃甜食，面食饭后一个小时内不能坐，不能躺走路一个小时口苦空腹查一下肝胆胰脾看看有没有胆囊炎现在没有一种药，可以除根就是缓解有胆囊炎就是容易口苦这个要去耳鼻喉科看一下可能是咽炎导致也有可能是经常左侧睡返流的胃酸刺激造成的炎症查过心电图么平时有什么疾病？有高血压？不排除因为有贲门松弛干活容易引起胃酸返流并且食管还有炎症胃酸会刺激食管这个没有很好的药物贲门松弛只能饭后一个小时内，不能坐不能躺吃饭七分饱可以会减轻但不会完全消失自己生活不注意',\n",
       " '还会回去只要是比较好的，可以国家级的，好中医不好挂号有的倒不如民间的一般情况下不会，只要不是成年论辈子吃，问题不大的\\n\\t\\t\\t',\n",
       " '\\n\\t\\t\\t\\t你好，这种情况多久了呢？现在每天大概怎样的喝酒量除了手抖，还有其它',\n",
       " '没有你现在想咨询什么问题呢戒酒没有特殊药物喝酒可以缓解的，一个可能是特发性震颤我知道，刚说了，喝酒能够缓解的震颤，一个是特发性震颤，这个喝酒可以缓解第二个就是酒精成瘾导致的类似戒断表现不管是哪一个，都建议戒酒同时完善头部磁共振，排除酒精性脑病的情况这个只能去医院戒酒了你是哪里的大的综合医院的精神心理科，有酒精戒断专科到医院配合一些药物和心理方法不太清楚，大医院有精神科的，可能有\\n\\t\\t\\t',\n",
       " '\\n\\t\\t\\t\\t你好，你有什么']"
      ]
     },
     "execution_count": 14,
     "metadata": {},
     "output_type": "execute_result"
    }
   ],
   "source": [
    "a = requests.get('https://www.chunyuyisheng.com/pc/search/qalist/?query=%E7%97%87%E7%8A%B6')\n",
    "html = etree.HTML(a.text)\n",
    "question = []\n",
    "answer = []\n",
    "q= html.xpath('//div[@class = \"qa-item qa-item-ask\"]//a/text()')\n",
    "a= html.xpath('//div[@class = \"qa-item qa-item-answer\"]/text()')\n",
    "q = [item for item in q if item != '\\n\\t\\t\\t\\t\\t']\n",
    "a = [item for item in a if item != '\\n\\t\\t\\t\\t']\n",
    "for x,y in zip(q,a):\n",
    "    question.append(x)\n",
    "    answer.append(y)\n",
    "answer"
   ]
  },
  {
   "cell_type": "code",
   "execution_count": 1,
   "metadata": {},
   "outputs": [],
   "source": [
    "symptom_qwds = ['症状', '表征', '现象', '症候', '表现', '不良反应','征兆']\n",
    "cause_qwds = ['原因', '成因', '为什么', '怎么会', '怎样才', '咋样才', '怎样会', '如何会', '为啥', '为何',\n",
    "                '如何才会', '怎么才会', '会导致', '会造成']\n",
    "acompany_qwds = ['并发症', '并发', '一起发生', '一并发生', '一起出现', '一并出现', '一同发生', '一同出现',\n",
    "                    '伴随发生', '伴随', '共现']\n",
    "not_food_qwds = ['不能吃什么','忌口','不能吃什么食物','不能吃什么东西','忌食','少吃']\n",
    "can_food_qwds = ['吃什么食物','怎么补','吃什么菜','保健品','食谱','宜食','多吃']\n",
    "drug_qwds = ['药', '药品', '用药', '胶囊', '口服液', '炎片']\n",
    "check_qwds = ['检查', '检查项目', '查出', '检查', '测出', '试出']\n",
    "prevent_qwds = ['预防', '防范', '抵制', '抵御', '防止', '躲避', '逃避', '避开', '免得', '逃开', '避开',\n",
    "                    '避掉', '躲开', '躲掉', '绕开',\n",
    "                    '怎样才能不', '怎么才能不', '咋样才能不', '咋才能不', '如何才能不',\n",
    "                    '怎样才不', '怎么才不', '咋样才不', '咋才不', '如何才不',\n",
    "                    '怎样才可以不', '怎么才可以不', '咋样才可以不', '咋才可以不', '如何可以不',\n",
    "                    '怎样才可不', '怎么才可不', '咋样才可不', '咋才可不', '如何可不']\n",
    "lasttime_qwds = ['周期', '多久', '多长时间', '多少时间', '几天', '几年', '多少天', '多少小时', '几个小时',\n",
    "                    '多少年']\n",
    "cureway_qwds = ['怎么治疗', '如何医治', '怎么医治', '怎么治', '怎么医', '如何治', '医治方式', '疗法',\n",
    "                    '咋治', '怎么办', '咋办', '咋治']\n",
    "cureprob_qwds = ['多大概率能治好', '多大几率能治好', '治好希望大么', '几率', '几成', '比例', '可能性',\n",
    "                    '能治', '可治', '可以治', '可以医']\n",
    "easyget_qwds = ['易感人群', '容易感染', '易发人群', '什么人', '哪些人', '感染', '染上', '得上']\n",
    "question_type = [symptom_qwds, cause_qwds, acompany_qwds, not_food_qwds, can_food_qwds, drug_qwds, check_qwds, prevent_qwds, lasttime_qwds, cureway_qwds, cureprob_qwds, easyget_qwds]\n",
    "s = 0\n",
    "for i in question_type:\n",
    "    s += len(i)"
   ]
  },
  {
   "cell_type": "code",
   "execution_count": 2,
   "metadata": {},
   "outputs": [
    {
     "data": {
      "text/plain": [
       "133"
      ]
     },
     "execution_count": 2,
     "metadata": {},
     "output_type": "execute_result"
    }
   ],
   "source": [
    "s"
   ]
  },
  {
   "cell_type": "code",
   "execution_count": null,
   "metadata": {},
   "outputs": [],
   "source": []
  }
 ],
 "metadata": {
  "kernelspec": {
   "display_name": "nlp",
   "language": "python",
   "name": "python3"
  },
  "language_info": {
   "codemirror_mode": {
    "name": "ipython",
    "version": 3
   },
   "file_extension": ".py",
   "mimetype": "text/x-python",
   "name": "python",
   "nbconvert_exporter": "python",
   "pygments_lexer": "ipython3",
   "version": "3.9.13"
  },
  "orig_nbformat": 4
 },
 "nbformat": 4,
 "nbformat_minor": 2
}
